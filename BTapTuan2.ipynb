{
  "nbformat": 4,
  "nbformat_minor": 0,
  "metadata": {
    "colab": {
      "provenance": []
    },
    "kernelspec": {
      "name": "python3",
      "display_name": "Python 3"
    },
    "language_info": {
      "name": "python"
    }
  },
  "cells": [
    {
      "cell_type": "code",
      "execution_count": 2,
      "metadata": {
        "colab": {
          "base_uri": "https://localhost:8080/"
        },
        "id": "ytv9NlMyIoKa",
        "outputId": "da659af6-3d24-42b4-c82d-40ce16ef3b5d"
      },
      "outputs": [
        {
          "output_type": "stream",
          "name": "stdout",
          "text": [
            "nhap so: 3 4\n",
            "7 -1 12 0 3 0.75\n"
          ]
        }
      ],
      "source": [
        "#W2A3\n",
        "a, b = map(int, input(\"nhap so: \" ).split())\n",
        "\n",
        "tong = a + b\n",
        "hieu = a - b\n",
        "tich = a * b\n",
        "phan_nguyen = a // b\n",
        "phan_du = a % b\n",
        "chia_thuc = round(a / b, 2)\n",
        "\n",
        "print(tong, hieu, tich, phan_nguyen, phan_du, chia_thuc)"
      ]
    },
    {
      "cell_type": "code",
      "source": [
        "#W2A4\n",
        "a1, b1, c1, a2, b2, a3 = map(float, input().split())\n",
        "tb = ((a1 + b1 + c1) + (a2 + b2) * 2 + a3 * 3) / 10\n",
        "print(round(tb, 1))"
      ],
      "metadata": {
        "id": "Ysm1HBoeI-rp"
      },
      "execution_count": null,
      "outputs": []
    },
    {
      "cell_type": "code",
      "source": [
        "#W2A5\n",
        "a, b = map(int, input(\"nhap so: \").split())\n",
        "print(a ** b)"
      ],
      "metadata": {
        "id": "edbn8mqiJFII"
      },
      "execution_count": null,
      "outputs": []
    },
    {
      "cell_type": "code",
      "source": [
        "#W2A7\n",
        "a = ((13 ** 2) * 3) + 5\n",
        "b = 13 ** 2 * 3 + 5\n",
        "print(a, b)"
      ],
      "metadata": {
        "id": "VrBOgJGZJLTQ"
      },
      "execution_count": null,
      "outputs": []
    },
    {
      "cell_type": "code",
      "source": [
        "#W2A8\n",
        "C = float(input(\"Độ C: \"))\n",
        "F = 9/5 * C + 32\n",
        "print(\"Độ F: \",round(F, 2))\n"
      ],
      "metadata": {
        "colab": {
          "base_uri": "https://localhost:8080/"
        },
        "id": "iOL7rk7PJSYg",
        "outputId": "f63d7329-26f9-4286-cda8-195ac82dbfce"
      },
      "execution_count": 3,
      "outputs": [
        {
          "output_type": "stream",
          "name": "stdout",
          "text": [
            "Độ C: 36\n",
            "Độ F:  96.8\n"
          ]
        }
      ]
    },
    {
      "cell_type": "code",
      "source": [
        "#W2A9\n",
        "x = float(input())\n",
        "gia = x + 10\n",
        "gia += gia * 0.3\n",
        "gia += gia * 0.1\n",
        "print(f\"{gia:.2f}\")"
      ],
      "metadata": {
        "colab": {
          "base_uri": "https://localhost:8080/"
        },
        "id": "x4IERehlJs9R",
        "outputId": "19137600-1bd9-48fa-b78f-3bdbd7ee19ed"
      },
      "execution_count": 6,
      "outputs": [
        {
          "output_type": "stream",
          "name": "stdout",
          "text": [
            "10\n",
            "28.60\n"
          ]
        }
      ]
    },
    {
      "cell_type": "code",
      "source": [
        "#W2A11\n",
        "h, m = map(int, input().split())\n",
        "seconds = h * 3600 + m * 60\n",
        "print(seconds)"
      ],
      "metadata": {
        "id": "6CIaJGdzKNgJ"
      },
      "execution_count": null,
      "outputs": []
    },
    {
      "cell_type": "code",
      "source": [
        "#W2A12\n",
        "n = int(input())\n",
        "print(6 * n * n)"
      ],
      "metadata": {
        "id": "tt2gua3aKWoR"
      },
      "execution_count": null,
      "outputs": []
    },
    {
      "cell_type": "code",
      "source": [
        "#W2A13\n",
        "a, b = map(int, input().split())\n",
        "print((a * b) % 10)"
      ],
      "metadata": {
        "id": "M1zUK9zIKbGn"
      },
      "execution_count": null,
      "outputs": []
    },
    {
      "cell_type": "code",
      "source": [
        "#W2A14\n",
        "a, b = map(int, input().split())\n",
        "a, b = b, a\n",
        "print(a, b)"
      ],
      "metadata": {
        "id": "xTzgLG8-KhTw"
      },
      "execution_count": null,
      "outputs": []
    },
    {
      "cell_type": "code",
      "source": [
        "#W2A15\n",
        "n = int(input())\n",
        "print(3 * n * (n - 1) + 1)"
      ],
      "metadata": {
        "colab": {
          "base_uri": "https://localhost:8080/"
        },
        "id": "eTFG_I1QKnU4",
        "outputId": "5ec995c7-5b1a-4f71-cde4-27647df7cc27"
      },
      "execution_count": 7,
      "outputs": [
        {
          "output_type": "stream",
          "name": "stdout",
          "text": [
            "6\n",
            "91\n"
          ]
        }
      ]
    }
  ]
}