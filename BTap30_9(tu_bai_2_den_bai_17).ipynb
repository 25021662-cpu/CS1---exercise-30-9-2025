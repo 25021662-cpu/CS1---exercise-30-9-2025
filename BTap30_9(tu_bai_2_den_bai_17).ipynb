{
  "nbformat": 4,
  "nbformat_minor": 0,
  "metadata": {
    "colab": {
      "provenance": []
    },
    "kernelspec": {
      "name": "python3",
      "display_name": "Python 3"
    },
    "language_info": {
      "name": "python"
    }
  },
  "cells": [
    {
      "cell_type": "code",
      "execution_count": null,
      "metadata": {
        "colab": {
          "base_uri": "https://localhost:8080/"
        },
        "id": "_q1edPMD_qXG",
        "outputId": "47e1fb00-d2ca-4054-fa3e-91eb7660d46e"
      },
      "outputs": [
        {
          "output_type": "stream",
          "name": "stdout",
          "text": [
            "2\n",
            "12 13\n",
            "(13, 12)\n",
            "14 15\n",
            "(15, 14)\n"
          ]
        }
      ],
      "source": [
        "#BAI2 - 30/9\n",
        "def hoandoi(a, b):\n",
        "    a = a ^ b\n",
        "    b = a ^ b\n",
        "    a = a ^ b\n",
        "    return a, b\n",
        "\n",
        "n = int(input())\n",
        "\n",
        "for i in range(n):\n",
        "    a, b = map(int, input().split())\n",
        "    print(hoandoi(a, b))\n"
      ]
    },
    {
      "cell_type": "code",
      "source": [
        "#BAI3 -30/9\n",
        "def KT(a):\n",
        "\tif a %2==0:\n",
        "\t\treturn True\n",
        "\treturn False\n",
        "\n",
        "n = int(input())\n",
        "\n",
        "for i in range(n):\n",
        "    a = int(input())\n",
        "    print(KT(a))\n"
      ],
      "metadata": {
        "id": "fHYuHyXtAe0s",
        "colab": {
          "base_uri": "https://localhost:8080/"
        },
        "outputId": "1f5586cd-3f87-437d-9d68-5135bc698902"
      },
      "execution_count": 1,
      "outputs": [
        {
          "output_type": "stream",
          "name": "stdout",
          "text": [
            "2\n",
            "14\n",
            "True\n",
            "16\n",
            "True\n"
          ]
        }
      ]
    },
    {
      "cell_type": "code",
      "source": [
        "#BAI4 -30/9\n",
        "n = int(input())\n",
        "\n",
        "for i in range(n):\n",
        "    a, b = map(int, input().split())\n",
        "    print(a // b)\n",
        ""
      ],
      "metadata": {
        "colab": {
          "base_uri": "https://localhost:8080/"
        },
        "id": "1qysX1iG2dQy",
        "outputId": "53ec1b7e-954e-4a2f-86d4-ab4aabde1313"
      },
      "execution_count": 2,
      "outputs": [
        {
          "output_type": "stream",
          "name": "stdout",
          "text": [
            "2\n",
            "1 3\n",
            "0\n",
            "555 7\n",
            "79\n"
          ]
        }
      ]
    },
    {
      "cell_type": "code",
      "source": [
        "#BAI5 -30/9\n",
        "import math\n",
        "\n",
        "n = int(input())\n",
        "\n",
        "for i in range(n):\n",
        "    a, b = map(int, input().split())\n",
        "    ans = math.ceil(a/b)\n",
        "    print(ans)"
      ],
      "metadata": {
        "colab": {
          "base_uri": "https://localhost:8080/"
        },
        "id": "YjPuZ6293GSq",
        "outputId": "f06339bd-8cd7-400c-9044-a6137e585193"
      },
      "execution_count": 5,
      "outputs": [
        {
          "output_type": "stream",
          "name": "stdout",
          "text": [
            "4\n",
            "12 4\n",
            "3\n",
            "15 6\n",
            "3\n",
            "12 7\n",
            "2\n",
            "3 2\n",
            "2\n"
          ]
        }
      ]
    },
    {
      "cell_type": "code",
      "source": [
        "\n",
        "#Even and Odd\n",
        "def kt(a):\n",
        "    if a % 2 == 0:\n",
        "        return \"Even\"\n",
        "    return \"Odd\"\n",
        "\n",
        "n = int(input())\n",
        "\n",
        "arr = list(map(int, input().split()))\n",
        "\n",
        "for a in arr:\n",
        "    print(kt(a), end=\" \")\n"
      ],
      "metadata": {
        "colab": {
          "base_uri": "https://localhost:8080/"
        },
        "id": "K-2fFxTj33lL",
        "outputId": "cd85c6dc-a8bc-4b82-ff5f-2ade4f027b8d"
      },
      "execution_count": 7,
      "outputs": [
        {
          "output_type": "stream",
          "name": "stdout",
          "text": [
            "2\n",
            "3 4\n",
            "Odd Even "
          ]
        }
      ]
    },
    {
      "cell_type": "code",
      "source": [
        "#Check negative numbers\n",
        "def Check(a, b):\n",
        "    if ( a < 0 and b < 0):\n",
        "      return \"Yes\"\n",
        "    return \"No\"\n",
        "\n",
        "n = int(input())\n",
        "\n",
        "for i in range(n):\n",
        "    a, b = map(int, input().split())\n",
        "    print(Check(a, b))\n",
        "\n"
      ],
      "metadata": {
        "colab": {
          "base_uri": "https://localhost:8080/"
        },
        "id": "lC7zrFsF4-Dq",
        "outputId": "7bf77eeb-cfc1-4e65-9a61-a140f4d104f3"
      },
      "execution_count": 9,
      "outputs": [
        {
          "output_type": "stream",
          "name": "stdout",
          "text": [
            "2\n",
            "-1 -2\n",
            "Yes\n",
            "1 -2\n",
            "No\n"
          ]
        }
      ]
    },
    {
      "cell_type": "code",
      "source": [
        "#Longer string\n",
        "def Check(a, b):\n",
        "    if ( len(a) > len(b)):\n",
        "      return True\n",
        "    return False\n",
        "\n",
        "n = int(input())\n",
        "\n",
        "for i in range(n):\n",
        "    a, b = input().split()\n",
        "    print(Check(a, b))"
      ],
      "metadata": {
        "colab": {
          "base_uri": "https://localhost:8080/"
        },
        "id": "ub51ahQb5iXD",
        "outputId": "deef0dfd-b502-4004-d171-81a2a1cdac39"
      },
      "execution_count": 13,
      "outputs": [
        {
          "output_type": "stream",
          "name": "stdout",
          "text": [
            "2\n",
            "dog catt\n",
            "False\n",
            "heloo lekkd\n",
            "False\n"
          ]
        }
      ]
    },
    {
      "cell_type": "code",
      "source": [
        "#Triangle\n",
        "def Check(a, b, c):\n",
        "    if a + b > c and a + c > b and b + c > a:\n",
        "      return \"Yes\"\n",
        "    return \"No\"\n",
        "\n",
        "n = int(input())\n",
        "\n",
        "for i in range(n):\n",
        "    a, b, c = map(int, input().split())\n",
        "    print(Check(a, b, c))"
      ],
      "metadata": {
        "colab": {
          "base_uri": "https://localhost:8080/"
        },
        "id": "l-r_teeL6PRS",
        "outputId": "21ffaf12-3477-4a65-ad13-41b2c2098d92"
      },
      "execution_count": 15,
      "outputs": [
        {
          "output_type": "stream",
          "name": "stdout",
          "text": [
            "2\n",
            "3 4 5\n",
            "Yes\n",
            "5 7 9\n",
            "Yes\n"
          ]
        }
      ]
    },
    {
      "cell_type": "code",
      "source": [
        "#Largest number\n",
        "\n",
        "n = int(input())\n",
        "\n",
        "for i in range(n):\n",
        "  a = []\n",
        "  b, c, d, e = map(int, input().split())\n",
        "  a = [b, c, d, e]\n",
        "  print(max(a))"
      ],
      "metadata": {
        "colab": {
          "base_uri": "https://localhost:8080/"
        },
        "id": "LgvbQFEE6-fS",
        "outputId": "4f40fccc-d45c-48ca-ea99-a637a3bd4eb2"
      },
      "execution_count": 17,
      "outputs": [
        {
          "output_type": "stream",
          "name": "stdout",
          "text": [
            "1\n",
            "1 2 3 4\n",
            "4\n"
          ]
        }
      ]
    },
    {
      "cell_type": "code",
      "source": [
        "#Phân loại tam giác\n",
        "def Check(a,b,c):\n",
        "  if a + b > c and a + c > b and b + c > a:\n",
        "    if a == b == c:\n",
        "        return \"Tam giác đều\"\n",
        "    elif a == b or b == c or a == c:\n",
        "        return \"Tam giác cân\"\n",
        "    else:\n",
        "        return \"Tam giác thường\"\n",
        "  return \"Không phải tam giác\"\n",
        "n = int(input())\n",
        "\n",
        "for i in range(n):\n",
        "    a, b, c = map(int, input().split())\n",
        "    print(Check(a, b, c))"
      ],
      "metadata": {
        "colab": {
          "base_uri": "https://localhost:8080/"
        },
        "id": "di3Sw-8A75ya",
        "outputId": "5a692cff-cc2d-4aeb-8a58-7db4e6003c06"
      },
      "execution_count": 19,
      "outputs": [
        {
          "output_type": "stream",
          "name": "stdout",
          "text": [
            "1\n",
            "3 4 5\n",
            "Tam giác thường\n"
          ]
        }
      ]
    },
    {
      "cell_type": "code",
      "source": [
        "#Kiểm tra năm nhuận\n",
        "def KT(nam):\n",
        "\tif nam % 4==0:\n",
        "\t\treturn \"Yes\"\n",
        "\treturn \"No\"\n",
        "\n",
        "n = int(input())\n",
        "\n",
        "for i in range(n):\n",
        "    nam = int(input())\n",
        "    print(KT(nam))"
      ],
      "metadata": {
        "colab": {
          "base_uri": "https://localhost:8080/"
        },
        "id": "4tXtIEsD8mfz",
        "outputId": "097ff3a0-e102-416d-b41a-c02eb52ffbd6"
      },
      "execution_count": 20,
      "outputs": [
        {
          "output_type": "stream",
          "name": "stdout",
          "text": [
            "3\n",
            "1994\n",
            "No\n",
            "2024\n",
            "Yes\n",
            "1444\n",
            "Yes\n"
          ]
        }
      ]
    },
    {
      "cell_type": "code",
      "source": [
        "#Tính tiền điện\n",
        "def money(sodien):\n",
        "  if sodien <= 50:\n",
        "    return sodien * 1500\n",
        "  elif sodien >=51 and sodien <= 100:\n",
        "    return (sodien - 50) * 2000 + 50*1500\n",
        "  elif sodien >= 100:\n",
        "      return  50 * 2000 + 50*1500 + (sodien - 100) * 2500\n",
        "n = int(input())\n",
        "\n",
        "for i in range(n):\n",
        "    sodien = int(input())\n",
        "    print(money(sodien))\n",
        ""
      ],
      "metadata": {
        "colab": {
          "base_uri": "https://localhost:8080/"
        },
        "id": "ps2fqvlN84rS",
        "outputId": "4c62bd62-e5c8-4afa-ccfd-3f1f60add51b"
      },
      "execution_count": 23,
      "outputs": [
        {
          "output_type": "stream",
          "name": "stdout",
          "text": [
            "2\n",
            "143\n",
            "282500\n",
            "15\n",
            "22500\n"
          ]
        }
      ]
    },
    {
      "cell_type": "code",
      "source": [
        "#Giải phương trình bậc nhất\n",
        "\n",
        "def Ans(a,b):\n",
        "  if a == 0:\n",
        "    if b == 0:\n",
        "       return \"Vô số nghiệm\"\n",
        "    else :\n",
        "      return \"Vô nghiệm\"\n",
        "  k = round(-b/a,2)\n",
        "  return k\n",
        "\n",
        "n = int(input())\n",
        "\n",
        "for i in range(n):\n",
        "    a, b = map(int, input().split())\n",
        "    print(Ans(a,b))"
      ],
      "metadata": {
        "colab": {
          "base_uri": "https://localhost:8080/"
        },
        "id": "gTzaXIfZ-PCT",
        "outputId": "3fb31496-55ba-4684-daeb-dd9f0bfec817"
      },
      "execution_count": 22,
      "outputs": [
        {
          "output_type": "stream",
          "name": "stdout",
          "text": [
            "2\n",
            "0 5\n",
            "Vô nghiệm\n",
            "0 0\n",
            "Vô số nghiệm\n"
          ]
        }
      ]
    },
    {
      "cell_type": "code",
      "source": [
        "#Xếp loại học lực\n",
        "def Rank(score):\n",
        "    if score >= 8.0:\n",
        "        return \"Giỏi\"\n",
        "    elif score >= 6.5:\n",
        "        return \"Khá\"\n",
        "    elif score >= 5.0:\n",
        "        return \"Trung bình\"\n",
        "    else:\n",
        "        return \"Yếu\"\n",
        "\n",
        "n = int(input())\n",
        "\n",
        "for i in range(n):\n",
        "    score = input().split()\n",
        "    score = float(score)\n",
        "    print(Rank(score))\n"
      ],
      "metadata": {
        "id": "XoeIQKE5_5mU"
      },
      "execution_count": null,
      "outputs": []
    },
    {
      "cell_type": "code",
      "source": [
        "# Rounding\n",
        "def rounding(x):\n",
        "    nguyen = int(x)\n",
        "    thap_phan = x - nguyen\n",
        "\n",
        "    # Làm tròn xuống\n",
        "    if x >= 0:\n",
        "        floor = nguyen\n",
        "    else:\n",
        "        if x == nguyen:\n",
        "            floor = nguyen\n",
        "        else:\n",
        "            floor = nguyen - 1\n",
        "\n",
        "    # Làm tròn lên\n",
        "    if x >= 0:\n",
        "        if x == nguyen:\n",
        "            ceil = nguyen\n",
        "        else:\n",
        "            ceil = nguyen + 1\n",
        "    else:\n",
        "        ceil = nguyen\n",
        "\n",
        "    # Làm tròn gần nhất\n",
        "    if thap_phan >= 0.5:\n",
        "        rounded = nguyen + 1\n",
        "    elif thap_phan <= -0.5:\n",
        "        rounded = nguyen - 1\n",
        "    else:\n",
        "        rounded = nguyen\n",
        "\n",
        "    return ceil, floor, rounded\n",
        "\n",
        "\n",
        "n = int(input())\n",
        "\n",
        "for i in range(n):\n",
        "    so = float(input())\n",
        "    c, f, r = rounding(so)\n",
        "    print(c, f, r)\n"
      ],
      "metadata": {
        "colab": {
          "base_uri": "https://localhost:8080/"
        },
        "id": "d7PU3WJrBBl4",
        "outputId": "8b8dc030-74bd-4d3b-c621-2d269391015f"
      },
      "execution_count": null,
      "outputs": [
        {
          "output_type": "stream",
          "name": "stdout",
          "text": [
            "2\n",
            "-2.7\n",
            "-2 -3 -3\n"
          ]
        }
      ]
    }
  ]
}