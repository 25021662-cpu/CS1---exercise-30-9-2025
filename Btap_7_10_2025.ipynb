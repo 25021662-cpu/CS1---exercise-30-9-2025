{
  "nbformat": 4,
  "nbformat_minor": 0,
  "metadata": {
    "colab": {
      "provenance": []
    },
    "kernelspec": {
      "name": "python3",
      "display_name": "Python 3"
    },
    "language_info": {
      "name": "python"
    }
  },
  "cells": [
    {
      "cell_type": "code",
      "execution_count": null,
      "metadata": {
        "colab": {
          "base_uri": "https://localhost:8080/"
        },
        "id": "EAdbS_xfzibI",
        "outputId": "94caa3d4-f9bb-4fbc-b73d-fa10086ee22e"
      },
      "outputs": [
        {
          "output_type": "stream",
          "name": "stdout",
          "text": [
            "so luong so can tinh : 4\n",
            "nhap so : 3\n",
            "6\n",
            "nhap so : 5\n",
            "15\n",
            "nhap so : 6\n",
            "21\n",
            "nhap so : 7\n",
            "28\n"
          ]
        }
      ],
      "source": [
        "#SumOfNumBers\n",
        "def tong(n):\n",
        "  sum = 0\n",
        "  for i in range(0,n+1):\n",
        "    sum+=i\n",
        "  return sum\n",
        "\n",
        "k= int(input(\"so luong so can tinh : \"))\n",
        "for  i in range(0,k):\n",
        "  n = int(input(\"nhap so : \"))\n",
        "  print(tong(n))\n",
        "\n",
        "\n"
      ]
    },
    {
      "cell_type": "code",
      "source": [],
      "metadata": {
        "id": "yqVInv0JaAUJ"
      },
      "execution_count": null,
      "outputs": []
    },
    {
      "cell_type": "code",
      "source": [
        "#PrimeNumber\n",
        "def snt(n):\n",
        "    if n < 2:\n",
        "        return False\n",
        "    for i in range(2, int(n ** 0.5) + 1):\n",
        "        if n % i == 0:\n",
        "            return False\n",
        "    return True\n",
        "\n",
        "k = int(input(\"Số lượng số cần tính: \"))\n",
        "for i in range(k):\n",
        "    n = int(input(\"Nhập số: \"))\n",
        "    print(snt(n))\n"
      ],
      "metadata": {
        "colab": {
          "base_uri": "https://localhost:8080/"
        },
        "id": "hWwxIjhY1Gvr",
        "outputId": "7717bef1-463e-42d8-8012-2f072d9fb92e"
      },
      "execution_count": null,
      "outputs": [
        {
          "output_type": "stream",
          "name": "stdout",
          "text": [
            "Số lượng số cần tính: 1\n",
            "Nhập số: 12\n",
            "False\n"
          ]
        }
      ]
    },
    {
      "cell_type": "code",
      "source": [
        "#Factorial\n",
        "def dq(n):\n",
        "\n",
        "    if n <= 1:\n",
        "        return 1\n",
        "    return n * dq(n - 1)\n",
        "\n",
        "k = int(input(\"Số lượng số cần tính: \"))\n",
        "for i in range(k):\n",
        "    n = int(input(\"Nhập số: \"))\n",
        "    print(dq(n))"
      ],
      "metadata": {
        "colab": {
          "base_uri": "https://localhost:8080/"
        },
        "id": "8lspfpyO345m",
        "outputId": "32eacb46-fa2e-47b3-d361-51e1f7e294cf"
      },
      "execution_count": null,
      "outputs": [
        {
          "output_type": "stream",
          "name": "stdout",
          "text": [
            "Số lượng số cần tính: 2\n",
            "Nhập số: 12\n",
            "479001600\n",
            "Nhập số: 2\n",
            "2\n"
          ]
        }
      ]
    },
    {
      "cell_type": "code",
      "source": [
        "#CountingDigits\n",
        "def count(n):\n",
        "  m = abs(n)\n",
        "  cnt=0\n",
        "  while m > 0:\n",
        "    m //= 10\n",
        "    cnt+=1\n",
        "  return cnt\n",
        "k = int(input(\"Số lượng số cần tính: \"))\n",
        "for i in range(k):\n",
        "    n = int(input(\"Nhập số: \"))\n",
        "    print(count(n))\n",
        "\n",
        "\n"
      ],
      "metadata": {
        "colab": {
          "base_uri": "https://localhost:8080/"
        },
        "id": "ofyMBeUE6FJ-",
        "outputId": "fe494c1f-c94f-46cc-e57b-7991cc3689c2"
      },
      "execution_count": null,
      "outputs": [
        {
          "output_type": "stream",
          "name": "stdout",
          "text": [
            "Số lượng số cần tính: 1\n",
            "Nhập số: -12\n",
            "2\n"
          ]
        }
      ]
    },
    {
      "cell_type": "code",
      "source": [
        "# MeaningOfLife\n",
        "k = int(input(\"Số lượng cần tính: \"))\n",
        "\n",
        "for _ in range(k):\n",
        "    n = int(input(\"Nhập số lượng phần tử: \"))\n",
        "    a = list(map(int, input(\"Nhập các phần tử: \").split()))\n",
        "\n",
        "    found = False\n",
        "    for x in a:\n",
        "        if x == 42:\n",
        "            found = True\n",
        "            break\n",
        "\n",
        "    if found:\n",
        "        print(\"I've found the meaning of life!\")\n",
        "    else:\n",
        "        print(\"It's a joke!\")\n"
      ],
      "metadata": {
        "id": "tLBMjk4r5tNB",
        "colab": {
          "base_uri": "https://localhost:8080/"
        },
        "outputId": "10720008-a8b6-45b8-94ca-20798c90db5f"
      },
      "execution_count": null,
      "outputs": [
        {
          "output_type": "stream",
          "name": "stdout",
          "text": [
            "Số lượng cần tính: 2\n",
            "Nhập số lượng phần tử: 12\n",
            "Nhập các phần tử: 1 2 3 4 5 6 7 8 9 10 11 42\n",
            "I've found the meaning of life!\n",
            "Nhập số lượng phần tử: 1\n",
            "Nhập các phần tử: 2\n",
            "It's a joke!\n"
          ]
        }
      ]
    },
    {
      "cell_type": "code",
      "source": [
        "#SumPrimesInRange\n",
        "import sympy\n",
        "def snt(n):\n",
        "  return sympy.isprime(n)\n",
        "k = int(input(\"Số lượng số cần tính: \"))\n",
        "for i in range(k):\n",
        "    n,m = map(int, input(\"Nhập số: \").split())\n",
        "    sum = 0\n",
        "    for i in range( n,m+1 ):\n",
        "      if snt(i) :\n",
        "        sum+=i\n",
        "    print(sum)\n"
      ],
      "metadata": {
        "colab": {
          "base_uri": "https://localhost:8080/"
        },
        "id": "NNl8GNDT9MY7",
        "outputId": "420019a7-0d95-4a7b-cfa9-fe1a48000c66"
      },
      "execution_count": null,
      "outputs": [
        {
          "output_type": "stream",
          "name": "stdout",
          "text": [
            "Số lượng số cần tính: 2\n",
            "Nhập số: 1 10\n",
            "17\n",
            "Nhập số: 14 123\n",
            "1552\n"
          ]
        }
      ]
    },
    {
      "cell_type": "code",
      "source": [
        "#LargestPrimeFactor\n",
        "import sympy\n",
        "def isprime(n):\n",
        "  return sympy.isprime(n)\n",
        "def uln(n):\n",
        "  v=[]\n",
        "  for i in range(1,n+1):\n",
        "    if n%i==0 and isprime(i):\n",
        "      v.append(i)\n",
        "  k=max(v)\n",
        "  return k\n",
        "k = int(input(\"Số lượng số cần tính: \"))\n",
        "for i in range(k):\n",
        "    n=int(input(\"Nhập số: \"))\n",
        "    print(uln(n))"
      ],
      "metadata": {
        "colab": {
          "base_uri": "https://localhost:8080/"
        },
        "id": "mpBcLyzBtj9W",
        "outputId": "ecee0261-4adb-4e83-a92e-ae80bd31e829"
      },
      "execution_count": null,
      "outputs": [
        {
          "output_type": "stream",
          "name": "stdout",
          "text": [
            "Số lượng số cần tính: 2\n",
            "Nhập số: 1234\n",
            "617\n",
            "Nhập số: 99991\n",
            "99991\n"
          ]
        }
      ]
    },
    {
      "cell_type": "code",
      "source": [
        "#ReverseAddPalindrome\n",
        "def symmetrical_num(n):\n",
        "    flag =0;\n",
        "    k = str(n)\n",
        "    if ( k[::-1] == k ):\n",
        "      flag = 1\n",
        "    return flag\n",
        "def dn(n):\n",
        "  return int(str(n)[::-1])\n",
        "def dao(n):\n",
        "  cnt=0\n",
        "  while symmetrical_num(n) != 1 :\n",
        "    ans = n\n",
        "    n = n + dn(n)\n",
        "    cnt+=1\n",
        "  return cnt,ans\n",
        "k = int(input(\"Số lượng số cần tính: \"))\n",
        "for i in range(k):\n",
        "    n=int(input(\"Nhập số: \"))\n",
        "    print(dao(n))\n"
      ],
      "metadata": {
        "colab": {
          "base_uri": "https://localhost:8080/"
        },
        "id": "0bve5uIvxbWL",
        "outputId": "24af02d6-29fc-4eb6-d89b-769ba6865e78"
      },
      "execution_count": null,
      "outputs": [
        {
          "output_type": "stream",
          "name": "stdout",
          "text": [
            "Số lượng số cần tính: 1\n",
            "Nhập số: 56\n",
            "(1, 56)\n"
          ]
        }
      ]
    },
    {
      "cell_type": "code",
      "source": [
        "#[PerfectSquaresDistinctDigits\n",
        "def scp(n):\n",
        "  a=[]\n",
        "  cnt=0\n",
        "  for i in range(1,n+1):\n",
        "    if i**2 <= n :\n",
        "      cnt+=1\n",
        "      k = i*i\n",
        "      a.append(k)\n",
        "\n",
        "  if cnt == 0:\n",
        "    return \"no number\"\n",
        "  else:\n",
        "    return a\n",
        "k = int(input(\"Số lượng số cần tính: \"))\n",
        "for i in range(k):\n",
        "    n=int(input(\"Nhập số: \"))\n",
        "    print(scp(n))\n"
      ],
      "metadata": {
        "colab": {
          "base_uri": "https://localhost:8080/"
        },
        "id": "yfgrIVhz84hP",
        "outputId": "1fed8951-a898-42f6-d87a-b56ca7d407d6"
      },
      "execution_count": null,
      "outputs": [
        {
          "output_type": "stream",
          "name": "stdout",
          "text": [
            "Số lượng số cần tính: 2\n",
            "Nhập số: 13\n",
            "[1, 4, 9]\n",
            "Nhập số: 50\n",
            "[1, 4, 9, 16, 25, 36, 49]\n"
          ]
        }
      ]
    },
    {
      "cell_type": "code",
      "source": [
        "#LongestCollatzUpToN\n",
        "def collatz(x):\n",
        "      cnt = 1\n",
        "      while x != 1:\n",
        "          if x % 2 == 0:\n",
        "              x //= 2\n",
        "          else:\n",
        "              x = 3 * x + 1\n",
        "          cnt += 1\n",
        "      return cnt\n",
        "def LongestCollatzUpToN(x):\n",
        "  a = 0\n",
        "  b = 1\n",
        "  for i in range(1,x+1):\n",
        "    k = collatz(i)\n",
        "    if k > a:\n",
        "      a = k\n",
        "      b = i\n",
        "  return b , a\n",
        "k = int(input(\"Số lượng số cần tính: \"))\n",
        "for i in range(k):\n",
        "    n=int(input(\"Nhập số: \"))\n",
        "    print(LongestCollatzUpToN(n))\n"
      ],
      "metadata": {
        "colab": {
          "base_uri": "https://localhost:8080/"
        },
        "id": "W_AMFA1R_6h_",
        "outputId": "1ad5bf96-09b8-4b1c-c2a7-cfccc3f6759f"
      },
      "execution_count": null,
      "outputs": [
        {
          "output_type": "stream",
          "name": "stdout",
          "text": [
            "Số lượng số cần tính: 3\n",
            "Nhập số: 16\n",
            "(9, 20)\n",
            "Nhập số: 10\n",
            "(9, 20)\n",
            "Nhập số: 48\n",
            "(27, 112)\n"
          ]
        }
      ]
    },
    {
      "cell_type": "code",
      "source": [
        "#Interest\n",
        "def money(n,month):\n",
        "  k = float(n)\n",
        "  tong = k*((1+0.007)**month)\n",
        "  ans = int(tong)\n",
        "  return ans\n",
        "k = int(input(\"Số lượng số cần tính: \"))\n",
        "for i in range(k):\n",
        "    n,month = map(int, input().split())\n",
        "    print(money(n,month))\n"
      ],
      "metadata": {
        "colab": {
          "base_uri": "https://localhost:8080/"
        },
        "id": "uRwtpMVsFG8n",
        "outputId": "a8435857-6049-4104-f7e1-f5c24070587f"
      },
      "execution_count": null,
      "outputs": [
        {
          "output_type": "stream",
          "name": "stdout",
          "text": [
            "Số lượng số cần tính: 2\n",
            "1000 12\n",
            "1087\n",
            "144535 12\n",
            "157154\n"
          ]
        }
      ]
    },
    {
      "cell_type": "code",
      "source": [
        "#ChickenAndDog\n",
        "def gavacho(m, n):\n",
        "    flag = 0\n",
        "    for ga in range(m + 1):\n",
        "        cho = m - ga\n",
        "        if 2 * ga + 4 * cho == n:\n",
        "            flag = 1\n",
        "            return ga, cho\n",
        "    if flag == 0:\n",
        "        return \"invalid\"\n",
        "\n",
        "k = int(input(\"Số lượng bài toán cần tính: \"))\n",
        "for i in range(k):\n",
        "    m, n = map(int, input(\"Nhập tổng số con và tổng số chân: \").split())\n",
        "    print(gavacho(m, n))\n"
      ],
      "metadata": {
        "id": "lhyHSxXiGu7n",
        "colab": {
          "base_uri": "https://localhost:8080/"
        },
        "outputId": "4698982e-6531-493a-84b5-d229bf2b4739"
      },
      "execution_count": null,
      "outputs": [
        {
          "output_type": "stream",
          "name": "stdout",
          "text": [
            "Số lượng bài toán cần tính: 1\n",
            "Nhập tổng số con và tổng số chân: 12 14\n",
            "invalid\n"
          ]
        }
      ]
    },
    {
      "cell_type": "code",
      "source": [
        "#W4A18\n",
        "a,b= map(int, input().split())\n",
        "v = []\n",
        "k = min(a,b)\n",
        "for i in range(1,k+1):\n",
        "  if k % i == 0 :\n",
        "    v.append(i)\n",
        "print(*v)"
      ],
      "metadata": {
        "colab": {
          "base_uri": "https://localhost:8080/"
        },
        "id": "hd6JLI_G_sIH",
        "outputId": "3e99ebc7-d769-4178-e5f9-ecd95b58f9be"
      },
      "execution_count": null,
      "outputs": [
        {
          "output_type": "stream",
          "name": "stdout",
          "text": [
            "12 120\n",
            "1 2 3 4 6 12\n"
          ]
        }
      ]
    },
    {
      "cell_type": "code",
      "source": [
        "#EvenNumBers\n",
        "def sc(n):\n",
        "  a = []\n",
        "  for i in range(1,n+1):\n",
        "    if i % 2 == 0 :\n",
        "      a.append(i)\n",
        "  return a\n",
        "k = int(input(\"Số lượng số cần tính: \"))\n",
        "for i in range(k):\n",
        "    n=int(input(\"Nhập số: \"))\n",
        "    print(sc(n))\n"
      ],
      "metadata": {
        "colab": {
          "base_uri": "https://localhost:8080/"
        },
        "id": "zHtGNMN_B54Q",
        "outputId": "1333d8ba-17d1-4beb-bbc7-e7d5607ddb00"
      },
      "execution_count": null,
      "outputs": [
        {
          "output_type": "stream",
          "name": "stdout",
          "text": [
            "Số lượng số cần tính: 2\n",
            "Nhập số: 15\n",
            "[2, 4, 6, 8, 10, 12, 14]\n",
            "Nhập số: 19\n",
            "[2, 4, 6, 8, 10, 12, 14, 16, 18]\n"
          ]
        }
      ]
    },
    {
      "cell_type": "code",
      "source": [
        "#W4A20\n",
        "def check(n):\n",
        "  k = int(n**0.5)\n",
        "  a = []\n",
        "  for i in range (k+1):\n",
        "    v = 2**i\n",
        "    a.append(v)\n",
        "  if n in a:\n",
        "    return \"YES\"\n",
        "  else:\n",
        "    return \"NO\"\n",
        "a = []\n",
        "k = int(input(\"Số lượng số cần tính: \"))\n",
        "for i in range(k):\n",
        "    n=int(input(\"Nhập số: \"))\n",
        "    print(check(n))\n",
        "\n",
        "\n"
      ],
      "metadata": {
        "colab": {
          "base_uri": "https://localhost:8080/"
        },
        "id": "on7u_LreEB61",
        "outputId": "665ce5be-871a-42c1-d530-a66fa8065e2b"
      },
      "execution_count": null,
      "outputs": [
        {
          "output_type": "stream",
          "name": "stdout",
          "text": [
            "Số lượng số cần tính: 2\n",
            "Nhập số: 64\n",
            "YES\n",
            "Nhập số: 12134\n",
            "NO\n"
          ]
        }
      ]
    },
    {
      "cell_type": "code",
      "source": [
        "#W4A21\n",
        "def sum(n):\n",
        "  ans = 0\n",
        "  while n > 0:\n",
        "    k = n % 10\n",
        "    ans += k\n",
        "    n = n // 10\n",
        "  return ans\n",
        "k = int(input(\"Số lượng số cần tính: \"))\n",
        "for i in range(k):\n",
        "    n=int(input(\"Nhập số: \"))\n",
        "    print(sum(n))"
      ],
      "metadata": {
        "colab": {
          "base_uri": "https://localhost:8080/"
        },
        "id": "lu1dX8j6EYMd",
        "outputId": "57cb3de6-d26e-46f6-aeb8-02acb9cfb4fd"
      },
      "execution_count": null,
      "outputs": [
        {
          "output_type": "stream",
          "name": "stdout",
          "text": [
            "Số lượng số cần tính: 2\n",
            "Nhập số: 1234\n",
            "10\n",
            "Nhập số: 1241434\n",
            "19\n"
          ]
        }
      ]
    },
    {
      "cell_type": "code",
      "source": [
        "#W4A22\n",
        "def count(n):\n",
        "  even = 0\n",
        "  odd = 0\n",
        "  while n > 0:\n",
        "    k = n % 10\n",
        "    if k % 2 == 0:\n",
        "      even += 1\n",
        "    else:\n",
        "      odd += 1\n",
        "    n = n // 10\n",
        "  return even, odd\n",
        "\n",
        "k = int(input(\"Số lượng số cần tính: \"))\n",
        "for i in range(k):\n",
        "  n = int(input(\"Nhập số: \"))\n",
        "  e, o = count(n)\n",
        "  print(e, o)\n"
      ],
      "metadata": {
        "colab": {
          "base_uri": "https://localhost:8080/"
        },
        "id": "h_bgGzFRG_lg",
        "outputId": "3535c9b0-edc5-423e-e62e-02880e5cba71"
      },
      "execution_count": null,
      "outputs": [
        {
          "output_type": "stream",
          "name": "stdout",
          "text": [
            "Số lượng số cần tính: 2\n",
            "Nhập số: 12334325456\n",
            "5 6\n",
            "Nhập số: 1341353553532\n",
            "2 11\n"
          ]
        }
      ]
    },
    {
      "cell_type": "code",
      "source": [
        "#W4A25\n",
        "def found(n):\n",
        "  s = 0\n",
        "  k = 0\n",
        "  while s + (k + 1) < n:\n",
        "    k += 1\n",
        "    s += k\n",
        "  return k\n",
        "\n",
        "k = int(input(\"Số lượng số cần tính: \"))\n",
        "for i in range(k):\n",
        "  n = int(input(\"Nhập số: \"))\n",
        "  print(found(n))\n"
      ],
      "metadata": {
        "colab": {
          "base_uri": "https://localhost:8080/"
        },
        "id": "Enn61d2MImQB",
        "outputId": "462e5f3d-4771-45d0-8d53-a143df2bd205"
      },
      "execution_count": null,
      "outputs": [
        {
          "output_type": "stream",
          "name": "stdout",
          "text": [
            "Số lượng số cần tính: 2\n",
            "Nhập số: 14\n",
            "4\n",
            "Nhập số: 4\n",
            "2\n"
          ]
        }
      ]
    },
    {
      "cell_type": "code",
      "source": [
        "#W4A25\n",
        "a = []\n",
        "while True:\n",
        "  n = 235int(input())\n",
        "  if n == -1:\n",
        "    break\n",
        "  a.append(n)\n",
        "if len(a) == 0:\n",
        "  print(\"NULL\")\n",
        "else:\n",
        "  k = max(a)\n",
        "  h  = min(a)\n",
        "  print(k,h,end=\" \")"
      ],
      "metadata": {
        "colab": {
          "base_uri": "https://localhost:8080/"
        },
        "id": "6w9eIzi-MR7u",
        "outputId": "ed866bde-3758-4fc8-df92-267887696ffe"
      },
      "execution_count": null,
      "outputs": [
        {
          "output_type": "stream",
          "name": "stdout",
          "text": [
            "2\n",
            "24\n",
            "24\n",
            "44\n",
            "32\n",
            "-1\n",
            "44 2 "
          ]
        }
      ]
    },
    {
      "cell_type": "code",
      "source": [
        "#Fibonaci1\n",
        "def Fibonaci(n):\n",
        "  a = [0] * (n + 2)\n",
        "  a[0] = 1\n",
        "  a[1] = 1\n",
        "  for i in range(2, n + 1):\n",
        "    a[i] = a[i - 1] + a[i - 2]\n",
        "  for i in range(n + 1):\n",
        "    if a[i] > n:\n",
        "      ans = a[i - 1]\n",
        "      break\n",
        "  return ans\n",
        "\n",
        "k = int(input(\"Số lượng số cần tính: \"))\n",
        "for i in range(k):\n",
        "  n = int(input(\"Nhập số: \"))\n",
        "  print(Fibonaci(n))\n"
      ],
      "metadata": {
        "colab": {
          "base_uri": "https://localhost:8080/"
        },
        "id": "I5Mys68SNrVi",
        "outputId": "9cca8565-3620-431e-d277-fd6e43f7fc16"
      },
      "execution_count": null,
      "outputs": [
        {
          "output_type": "stream",
          "name": "stdout",
          "text": [
            "Số lượng số cần tính: 2\n",
            "Nhập số: 18\n",
            "13\n",
            "Nhập số: 241423\n",
            "196418\n"
          ]
        }
      ]
    },
    {
      "cell_type": "code",
      "source": [
        "#W4A27\n",
        "s = input()\n",
        "dem = 0\n",
        "inword = 0\n",
        "\n",
        "for i in range(0, len(s)):\n",
        "  if s[i] != ' ' and inword == 0:\n",
        "    dem += 1\n",
        "    inword = 1\n",
        "  if s[i] == ' ':\n",
        "    inword = 0\n",
        "\n",
        "print(dem)\n"
      ],
      "metadata": {
        "colab": {
          "base_uri": "https://localhost:8080/"
        },
        "id": "-jqY6VQNRKGC",
        "outputId": "c4982089-a519-4bf4-85c6-c9ef6640fa4c"
      },
      "execution_count": null,
      "outputs": [
        {
          "output_type": "stream",
          "name": "stdout",
          "text": [
            "xin chao cac ban\n",
            "4\n"
          ]
        }
      ]
    },
    {
      "cell_type": "code",
      "source": [
        "#W4A28\n",
        "s = input()\n",
        "word = \"\"\n",
        "for i in range(0, len(s)):\n",
        "  if s[i] == ' ':\n",
        "    break\n",
        "  word += s[i]\n",
        "print(word)\n"
      ],
      "metadata": {
        "colab": {
          "base_uri": "https://localhost:8080/"
        },
        "id": "_kw56GmHRpvS",
        "outputId": "e3d6673d-9bb0-4a04-abb0-3d59738a2c80"
      },
      "execution_count": null,
      "outputs": [
        {
          "output_type": "stream",
          "name": "stdout",
          "text": [
            "xin chao cac ban\n",
            "xin\n"
          ]
        }
      ]
    },
    {
      "cell_type": "code",
      "source": [
        "#W4A30\n",
        "\n",
        "s = input()\n",
        "hoa = 0\n",
        "thuong = 0\n",
        "so = 0\n",
        "\n",
        "for i in range(0, len(s)):\n",
        "  if s[i] >= 'A' and s[i] <= 'Z':\n",
        "    hoa += 1\n",
        "  elif s[i] >= 'a' and s[i] <= 'z':\n",
        "    thuong += 1\n",
        "  elif s[i] >= '0' and s[i] <= '9':\n",
        "    so += 1\n",
        "\n",
        "print(hoa, thuong, so)\n",
        "\n"
      ],
      "metadata": {
        "id": "ujsN5MgaSi0h"
      },
      "execution_count": null,
      "outputs": []
    },
    {
      "cell_type": "code",
      "source": [
        "#W4A31\n",
        "s = input()\n",
        "ans = 0\n",
        "for i in range(0, len(s)):\n",
        "  if s[i] >= '0' and s[i] <= '9':\n",
        "    ans += int(s[i])\n",
        "print(ans)"
      ],
      "metadata": {
        "colab": {
          "base_uri": "https://localhost:8080/"
        },
        "id": "ZS2bRnR9ToDy",
        "outputId": "19a3ee09-c6c0-41e6-a03f-1def21729a30"
      },
      "execution_count": null,
      "outputs": [
        {
          "output_type": "stream",
          "name": "stdout",
          "text": [
            "afadfgfgu34546\n",
            "22\n"
          ]
        }
      ]
    },
    {
      "cell_type": "code",
      "source": [
        "#W4A32\n",
        "s = input()\n",
        "hoa = 0\n",
        "thuong = 0\n",
        "so = 0\n",
        "dacbiet = 0\n",
        "\n",
        "for i in range(0, len(s)):\n",
        "  if s[i] >= 'A' and s[i] <= 'Z':\n",
        "    hoa += 1\n",
        "  elif s[i] >= 'a' and s[i] <= 'z':\n",
        "    thuong += 1\n",
        "  elif s[i] >= '0' and s[i] <= '9':\n",
        "    so += 1\n",
        "  else:\n",
        "    dacbiet += 1\n",
        "\n",
        "if hoa > 0 and thuong > 0 and so > 0 and dacbiet > 0 and len(s) > 6:\n",
        "  print(\"Strong\")\n",
        "else:\n",
        "  print(\"Weak\")\n"
      ],
      "metadata": {
        "colab": {
          "base_uri": "https://localhost:8080/"
        },
        "id": "5WdgQeOqUAUT",
        "outputId": "afea3296-f254-40a2-ee5d-62b50aba6b91"
      },
      "execution_count": null,
      "outputs": [
        {
          "output_type": "stream",
          "name": "stdout",
          "text": [
            " Abc@123\n",
            "Strong\n"
          ]
        }
      ]
    },
    {
      "cell_type": "code",
      "source": [
        "#W4A33\n",
        "n = int(input(\"Nhập số: \"))\n",
        "s = str(n)\n",
        "res = \"\"\n",
        "dem = 0\n",
        "\n",
        "for i in range(len(s) - 1, -1, -1):\n",
        "  res = s[i] + res\n",
        "  dem += 1\n",
        "  if dem % 3 == 0 and i != 0:\n",
        "    res = '.' + res\n",
        "\n",
        "print(res)\n"
      ],
      "metadata": {
        "id": "T3DkGdCvURRa",
        "colab": {
          "base_uri": "https://localhost:8080/"
        },
        "outputId": "8454b76c-79f7-43b2-a6b7-5e556e1dacd1"
      },
      "execution_count": 2,
      "outputs": [
        {
          "output_type": "stream",
          "name": "stdout",
          "text": [
            "Nhập số: 2\n",
            "2\n"
          ]
        }
      ]
    },
    {
      "cell_type": "code",
      "source": [
        "#W4A34\n",
        "a = input(\"Chuỗi a: \")\n",
        "b = input(\"Chuỗi b: \")\n",
        "p = a.find(b)\n",
        "if p != -1:\n",
        "    a = a[:p] + a[p + len(b):]\n",
        "print(a)"
      ],
      "metadata": {
        "colab": {
          "base_uri": "https://localhost:8080/"
        },
        "id": "hHy1eNoUaDrn",
        "outputId": "42c83522-1880-402f-c759-91fa3b475bd4"
      },
      "execution_count": 1,
      "outputs": [
        {
          "output_type": "stream",
          "name": "stdout",
          "text": [
            "Chuỗi a: fdshgkhdgkh\n",
            "Chuỗi b: dgjdkg\n",
            "fdshgkhdgkh\n"
          ]
        }
      ]
    }
  ]
}