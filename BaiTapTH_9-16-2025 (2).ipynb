{
  "nbformat": 4,
  "nbformat_minor": 0,
  "metadata": {
    "colab": {
      "provenance": []
    },
    "kernelspec": {
      "name": "python3",
      "display_name": "Python 3"
    },
    "language_info": {
      "name": "python"
    }
  },
  "cells": [
    {
      "cell_type": "code",
      "execution_count": null,
      "metadata": {
        "id": "f1x8QPyVkeam"
      },
      "outputs": [],
      "source": [
        "#w2A1\n",
        "print(\"Hello World\")"
      ]
    },
    {
      "cell_type": "code",
      "source": [
        "#W2A2\n",
        "s = input()\n",
        "print(\"Hello\",s)"
      ],
      "metadata": {
        "id": "UsB-wy6fkpk1"
      },
      "execution_count": null,
      "outputs": []
    },
    {
      "cell_type": "markdown",
      "source": [],
      "metadata": {
        "id": "K7crb2rzkpBq"
      }
    },
    {
      "cell_type": "code",
      "source": [
        "#W2A10\n",
        "s,t,k = input().split()\n",
        "\n",
        "print(k,t,s)"
      ],
      "metadata": {
        "colab": {
          "base_uri": "https://localhost:8080/"
        },
        "id": "ArUkxvQIk10J",
        "outputId": "0f674cad-2878-46f8-d0f3-e6fefc25e2a0"
      },
      "execution_count": 2,
      "outputs": [
        {
          "output_type": "stream",
          "name": "stdout",
          "text": [
            "anh nam cuong\n",
            "cuong nam anh\n"
          ]
        }
      ]
    },
    {
      "cell_type": "code",
      "source": [
        "#W2A16\n",
        "print(\"Spring\\nSummer\\nAutumn\\nWinter\")"
      ],
      "metadata": {
        "colab": {
          "base_uri": "https://localhost:8080/"
        },
        "id": "GHIhM8ApmWAo",
        "outputId": "2ecfd57e-58a2-4fd6-9e5b-f7d9bf1c982d"
      },
      "execution_count": 1,
      "outputs": [
        {
          "output_type": "stream",
          "name": "stdout",
          "text": [
            "Spring\n",
            "Summer\n",
            "Autumn\n",
            "Winter\n"
          ]
        }
      ]
    },
    {
      "cell_type": "code",
      "source": [
        "#W2A17\n",
        "print(\"*\")\n",
        "print(\"***\")\n",
        "print(\"*****\")"
      ],
      "metadata": {
        "id": "NVJl-EmRm_B1"
      },
      "execution_count": null,
      "outputs": []
    },
    {
      "cell_type": "code",
      "source": [
        "#W2A18\n",
        "print(\"### # # ### ###\")\n",
        "print(\"# # # # #\")\n",
        "print(\"# # # # #\")\n",
        "print(\"# # # # # \")\n",
        "print(\"# # # # #\")"
      ],
      "metadata": {
        "id": "dVVNnqk_na-W"
      },
      "execution_count": null,
      "outputs": []
    },
    {
      "cell_type": "code",
      "source": [
        "#w2a19\n",
        "print(\"Monday\")\n",
        "print(\"Tuesday\")\n",
        "print(\"Wednesday\")\n",
        "print(\"Thursday\")\n",
        "print(\"Friday\")\n",
        "print(\"Saturday\")\n",
        "print(\"Sunday\")"
      ],
      "metadata": {
        "id": "FtvoRF3Wn4N3"
      },
      "execution_count": null,
      "outputs": []
    },
    {
      "cell_type": "code",
      "source": [
        "#w2a20\n",
        "print(\"January\\nFebruary\\nMarch\\nApril\\nMay\\nJune\\nJuly\\nAugust\\nSeptember\\nOctober\\nNovember\\nDecember\")\n"
      ],
      "metadata": {
        "id": "60kmyndCpA2m"
      },
      "execution_count": null,
      "outputs": []
    },
    {
      "cell_type": "code",
      "source": [
        "#w2a21\n",
        "for i in range(10):\n",
        "\tprint(\"Hello, world\")"
      ],
      "metadata": {
        "id": "k6bHKDxDp-kc"
      },
      "execution_count": null,
      "outputs": []
    }
  ]
}