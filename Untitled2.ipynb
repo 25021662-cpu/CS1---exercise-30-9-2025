{
  "nbformat": 4,
  "nbformat_minor": 0,
  "metadata": {
    "colab": {
      "provenance": [],
      "authorship_tag": "ABX9TyNWTM0HdhHaHW9b4EEL14OE",
      "include_colab_link": true
    },
    "kernelspec": {
      "name": "python3",
      "display_name": "Python 3"
    },
    "language_info": {
      "name": "python"
    }
  },
  "cells": [
    {
      "cell_type": "markdown",
      "metadata": {
        "id": "view-in-github",
        "colab_type": "text"
      },
      "source": [
        "<a href=\"https://colab.research.google.com/github/25021662-cpu/CS1---exercise-30-9-2025/blob/main/Untitled2.ipynb\" target=\"_parent\"><img src=\"https://colab.research.google.com/assets/colab-badge.svg\" alt=\"Open In Colab\"/></a>"
      ]
    },
    {
      "cell_type": "code",
      "execution_count": 1,
      "metadata": {
        "colab": {
          "base_uri": "https://localhost:8080/"
        },
        "id": "_q1edPMD_qXG",
        "outputId": "47e1fb00-d2ca-4054-fa3e-91eb7660d46e"
      },
      "outputs": [
        {
          "output_type": "stream",
          "name": "stdout",
          "text": [
            "2\n",
            "12 13\n",
            "(13, 12)\n",
            "14 15\n",
            "(15, 14)\n"
          ]
        }
      ],
      "source": [
        "#BAI2\n",
        "def hoandoi(a, b):\n",
        "    a = a ^ b\n",
        "    b = a ^ b\n",
        "    a = a ^ b\n",
        "    return a, b\n",
        "\n",
        "n = int(input())\n",
        "\n",
        "for i in range(n):\n",
        "    a, b = map(int, input().split())\n",
        "    print(hoandoi(a, b))\n"
      ]
    }
  ]
}